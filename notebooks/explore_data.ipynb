{
 "cells": [
  {
   "cell_type": "code",
   "execution_count": null,
   "id": "10701513",
   "metadata": {},
   "outputs": [],
   "source": []
  },
  {
   "cell_type": "code",
   "execution_count": null,
   "id": "560e741b",
   "metadata": {},
   "outputs": [],
   "source": []
  },
  {
   "cell_type": "code",
   "execution_count": 1,
   "id": "b06e84a3",
   "metadata": {},
   "outputs": [],
   "source": [
    "import pandas as pd\n",
    "\n",
    "file_path = r\"C:\\Users\\eliza\\OneDrive\\Desktop\\smart_farming_analytics\\data\\soil_sensor_data_full.csv\"\n",
    "df = pd.read_csv(file_path)\n"
   ]
  },
  {
   "cell_type": "code",
   "execution_count": 3,
   "id": "149cacaf",
   "metadata": {},
   "outputs": [
    {
     "data": {
      "text/html": [
       "<div>\n",
       "<style scoped>\n",
       "    .dataframe tbody tr th:only-of-type {\n",
       "        vertical-align: middle;\n",
       "    }\n",
       "\n",
       "    .dataframe tbody tr th {\n",
       "        vertical-align: top;\n",
       "    }\n",
       "\n",
       "    .dataframe thead th {\n",
       "        text-align: right;\n",
       "    }\n",
       "</style>\n",
       "<table border=\"1\" class=\"dataframe\">\n",
       "  <thead>\n",
       "    <tr style=\"text-align: right;\">\n",
       "      <th></th>\n",
       "      <th>local_time</th>\n",
       "      <th>site_name</th>\n",
       "      <th>site_id</th>\n",
       "      <th>id</th>\n",
       "      <th>probe_id</th>\n",
       "      <th>probe_measure</th>\n",
       "      <th>soil_value</th>\n",
       "      <th>unit</th>\n",
       "      <th>json_featuretype</th>\n",
       "    </tr>\n",
       "  </thead>\n",
       "  <tbody>\n",
       "    <tr>\n",
       "      <th>0</th>\n",
       "      <td>2023-01-01T00:00:00+11:00</td>\n",
       "      <td>Princes Park Oval 3</td>\n",
       "      <td>64999</td>\n",
       "      <td>15522811</td>\n",
       "      <td>1320518</td>\n",
       "      <td>Soil Salinity 30cm #0</td>\n",
       "      <td>0.45</td>\n",
       "      <td>µS/cm</td>\n",
       "      <td>SoilSensorData</td>\n",
       "    </tr>\n",
       "    <tr>\n",
       "      <th>1</th>\n",
       "      <td>2023-01-01T00:00:00+11:00</td>\n",
       "      <td>Carlton Gardens South 1</td>\n",
       "      <td>64998</td>\n",
       "      <td>15522921</td>\n",
       "      <td>1306428</td>\n",
       "      <td>Soil Salinity 80cm #0</td>\n",
       "      <td>0.96</td>\n",
       "      <td>µS/cm</td>\n",
       "      <td>SoilSensorData</td>\n",
       "    </tr>\n",
       "    <tr>\n",
       "      <th>2</th>\n",
       "      <td>2023-01-01T00:00:00+11:00</td>\n",
       "      <td>Cnr Barry &amp; Leicester</td>\n",
       "      <td>69159</td>\n",
       "      <td>15522935</td>\n",
       "      <td>1392370</td>\n",
       "      <td>#0 Soil Moisture 10cm</td>\n",
       "      <td>23.96</td>\n",
       "      <td>%VWC</td>\n",
       "      <td>SoilSensorData</td>\n",
       "    </tr>\n",
       "    <tr>\n",
       "      <th>3</th>\n",
       "      <td>2023-01-01T00:00:00+11:00</td>\n",
       "      <td>Fitzroy Gardens West '18</td>\n",
       "      <td>65011</td>\n",
       "      <td>15522944</td>\n",
       "      <td>1305908</td>\n",
       "      <td>Soil Salinity 10cm #0</td>\n",
       "      <td>0.13</td>\n",
       "      <td>µS/cm</td>\n",
       "      <td>SoilSensorData</td>\n",
       "    </tr>\n",
       "    <tr>\n",
       "      <th>4</th>\n",
       "      <td>2023-01-01T00:00:00+11:00</td>\n",
       "      <td>Princess bridge West p06</td>\n",
       "      <td>101035</td>\n",
       "      <td>15522949</td>\n",
       "      <td>2019305</td>\n",
       "      <td>Soil Temperature 40cm</td>\n",
       "      <td>26.09</td>\n",
       "      <td>ºC</td>\n",
       "      <td>SoilSensorData</td>\n",
       "    </tr>\n",
       "  </tbody>\n",
       "</table>\n",
       "</div>"
      ],
      "text/plain": [
       "                  local_time                 site_name  site_id        id  \\\n",
       "0  2023-01-01T00:00:00+11:00       Princes Park Oval 3    64999  15522811   \n",
       "1  2023-01-01T00:00:00+11:00   Carlton Gardens South 1    64998  15522921   \n",
       "2  2023-01-01T00:00:00+11:00     Cnr Barry & Leicester    69159  15522935   \n",
       "3  2023-01-01T00:00:00+11:00  Fitzroy Gardens West '18    65011  15522944   \n",
       "4  2023-01-01T00:00:00+11:00  Princess bridge West p06   101035  15522949   \n",
       "\n",
       "   probe_id          probe_measure  soil_value   unit json_featuretype  \n",
       "0   1320518  Soil Salinity 30cm #0        0.45  µS/cm   SoilSensorData  \n",
       "1   1306428  Soil Salinity 80cm #0        0.96  µS/cm   SoilSensorData  \n",
       "2   1392370  #0 Soil Moisture 10cm       23.96   %VWC   SoilSensorData  \n",
       "3   1305908  Soil Salinity 10cm #0        0.13  µS/cm   SoilSensorData  \n",
       "4   2019305  Soil Temperature 40cm       26.09     ºC   SoilSensorData  "
      ]
     },
     "execution_count": 3,
     "metadata": {},
     "output_type": "execute_result"
    }
   ],
   "source": [
    "df.head()\n"
   ]
  },
  {
   "cell_type": "code",
   "execution_count": null,
   "id": "0b4a5ffa",
   "metadata": {},
   "outputs": [],
   "source": []
  },
  {
   "cell_type": "code",
   "execution_count": 4,
   "id": "bbd577c3",
   "metadata": {},
   "outputs": [
    {
     "name": "stdout",
     "output_type": "stream",
     "text": [
      "<class 'pandas.core.frame.DataFrame'>\n",
      "RangeIndex: 160200 entries, 0 to 160199\n",
      "Data columns (total 9 columns):\n",
      " #   Column            Non-Null Count   Dtype  \n",
      "---  ------            --------------   -----  \n",
      " 0   local_time        160200 non-null  object \n",
      " 1   site_name         160200 non-null  object \n",
      " 2   site_id           160200 non-null  int64  \n",
      " 3   id                160200 non-null  int64  \n",
      " 4   probe_id          160200 non-null  int64  \n",
      " 5   probe_measure     160200 non-null  object \n",
      " 6   soil_value        160200 non-null  float64\n",
      " 7   unit              160200 non-null  object \n",
      " 8   json_featuretype  160200 non-null  object \n",
      "dtypes: float64(1), int64(3), object(5)\n",
      "memory usage: 11.0+ MB\n"
     ]
    }
   ],
   "source": [
    "df.info()\n"
   ]
  },
  {
   "cell_type": "code",
   "execution_count": 5,
   "id": "afaa4c46",
   "metadata": {},
   "outputs": [
    {
     "data": {
      "text/plain": [
       "array(['Princes Park Oval 3', 'Carlton Gardens South 1',\n",
       "       'Cnr Barry & Leicester', \"Fitzroy Gardens West '18\",\n",
       "       'Princess bridge West p06', 'Treasury Gardens North',\n",
       "       'Shrine Reserve North East', 'Docklands Park South',\n",
       "       'Bourke South 4', 'Ron Barassi Oval', 'Bourke South 1',\n",
       "       'Flagstaff Gardens 3', \"Fitzroy Gardens East '18\", 'Point Park',\n",
       "       'Argyle Square', 'Bourke North 6', 'Bourke North 2',\n",
       "       'Shrine Reserve South West', 'Speakers Corner',\n",
       "       'Carlton Gardens South', 'Kings Domain East',\n",
       "       'Alexandra Gardens Engineers Lawn', 'Ransford Oval',\n",
       "       'Bourke North 5', 'Treasury Gardens South', 'Natures Play',\n",
       "       'Bandstand', 'Royal Parade South', 'McAlister Oval',\n",
       "       'Princess bridge NE p11', 'Royal Parade University college',\n",
       "       'Royal Parade CSIRO', 'Western Oval', 'Kings Domain North',\n",
       "       'Flagstaff Gardens 2', 'Carlton Gardens North',\n",
       "       'Princess bridge SW p10', 'Toms Block',\n",
       "       'Shrine Reserve South East', 'Princess bridge SE P01',\n",
       "       'Princess bridge NW p01', 'Princess bridge East p06',\n",
       "       'Southbank Bvd Playspace', 'Fawkner North', '9th Fairway',\n",
       "       'Princes Park Oval 2', 'Princes Park Lawn 5', 'Treasury West',\n",
       "       'Docklands Park North', 'Bourke South 2', 'Bourke North 4',\n",
       "       'Bourke South 3', 'Walker Field', '8th Green', 'Bourke South 5',\n",
       "       'Conservatory'], dtype=object)"
      ]
     },
     "execution_count": 5,
     "metadata": {},
     "output_type": "execute_result"
    }
   ],
   "source": [
    "df['site_name'].unique()\n"
   ]
  },
  {
   "cell_type": "code",
   "execution_count": 7,
   "id": "359c17d7",
   "metadata": {},
   "outputs": [
    {
     "data": {
      "text/plain": [
       "56"
      ]
     },
     "execution_count": 7,
     "metadata": {},
     "output_type": "execute_result"
    }
   ],
   "source": [
    "df['site_name'].nunique()\n"
   ]
  },
  {
   "cell_type": "code",
   "execution_count": 8,
   "id": "7451adc5",
   "metadata": {},
   "outputs": [
    {
     "data": {
      "text/plain": [
       "['8th Green',\n",
       " '9th Fairway',\n",
       " 'Alexandra Gardens Engineers Lawn',\n",
       " 'Argyle Square',\n",
       " 'Bandstand',\n",
       " 'Bourke North 2',\n",
       " 'Bourke North 4',\n",
       " 'Bourke North 5',\n",
       " 'Bourke North 6',\n",
       " 'Bourke South 1',\n",
       " 'Bourke South 2',\n",
       " 'Bourke South 3',\n",
       " 'Bourke South 4',\n",
       " 'Bourke South 5',\n",
       " 'Carlton Gardens North',\n",
       " 'Carlton Gardens South',\n",
       " 'Carlton Gardens South 1',\n",
       " 'Cnr Barry & Leicester',\n",
       " 'Conservatory',\n",
       " 'Docklands Park North',\n",
       " 'Docklands Park South',\n",
       " 'Fawkner North',\n",
       " \"Fitzroy Gardens East '18\",\n",
       " \"Fitzroy Gardens West '18\",\n",
       " 'Flagstaff Gardens 2',\n",
       " 'Flagstaff Gardens 3',\n",
       " 'Kings Domain East',\n",
       " 'Kings Domain North',\n",
       " 'McAlister Oval',\n",
       " 'Natures Play',\n",
       " 'Point Park',\n",
       " 'Princes Park Lawn 5',\n",
       " 'Princes Park Oval 2',\n",
       " 'Princes Park Oval 3',\n",
       " 'Princess bridge East p06',\n",
       " 'Princess bridge NE p11',\n",
       " 'Princess bridge NW p01',\n",
       " 'Princess bridge SE P01',\n",
       " 'Princess bridge SW p10',\n",
       " 'Princess bridge West p06',\n",
       " 'Ransford Oval',\n",
       " 'Ron Barassi Oval',\n",
       " 'Royal Parade CSIRO',\n",
       " 'Royal Parade South',\n",
       " 'Royal Parade University college',\n",
       " 'Shrine Reserve North East',\n",
       " 'Shrine Reserve South East',\n",
       " 'Shrine Reserve South West',\n",
       " 'Southbank Bvd Playspace',\n",
       " 'Speakers Corner',\n",
       " 'Toms Block',\n",
       " 'Treasury Gardens North',\n",
       " 'Treasury Gardens South',\n",
       " 'Treasury West',\n",
       " 'Walker Field',\n",
       " 'Western Oval']"
      ]
     },
     "execution_count": 8,
     "metadata": {},
     "output_type": "execute_result"
    }
   ],
   "source": [
    "sorted(df['site_name'].unique())\n"
   ]
  },
  {
   "cell_type": "code",
   "execution_count": 14,
   "id": "b3c9b7c6",
   "metadata": {},
   "outputs": [
    {
     "data": {
      "text/plain": [
       "<Axes: title={'center': 'Top 10 Sites by Number of Readings'}, ylabel='site_name'>"
      ]
     },
     "execution_count": 14,
     "metadata": {},
     "output_type": "execute_result"
    },
    {
     "data": {
      "image/png": "[encoded data removed]",
      "text/plain": [
       "<Figure size 640x480 with 1 Axes>"
      ]
     },
     "metadata": {},
     "output_type": "display_data"
    }
   ],
   "source": [
    "import matplotlib.pyplot as plt\n",
    "df['site_name'].value_counts().head(10).plot(kind='barh', title='Top 10 Sites by Number of Readings')\n"
   ]
  },
  {
   "cell_type": "code",
   "execution_count": 17,
   "id": "9e44d1dc",
   "metadata": {},
   "outputs": [
    {
     "name": "stdout",
     "output_type": "stream",
     "text": [
      "Unique probe_measure values:\n",
      " ['Soil Salinity 30cm #0' 'Soil Salinity 80cm #0' '#0 Soil Moisture 10cm'\n",
      " 'Soil Salinity 10cm #0' 'Soil Temperature 40cm' 'Soil Moisture 40cm #0'\n",
      " 'Soil Temperature 50cm #0' 'Soil Salinity 40cm #0'\n",
      " 'Soil Temperature 20cm #0' 'Soil Moisture 10cm #0'\n",
      " 'Soil Temperature 40cm #0' 'Soil Moisture 10cm #0 (Sand)'\n",
      " 'Soil Moisture 20cm #0 (Sand)' 'Soil Moisture 40cm #0 (Clay)'\n",
      " 'Soil Moisture 60cm #0 (Clay)' 'Soil Salinity 20cm #0'\n",
      " 'Soil Moisture 70cm #0 (Clay)' 'Soil Moisture 30cm #0'\n",
      " 'Soil Temperature 30cm #0' 'Soil Moisture 30cm #0 (Clay)'\n",
      " 'Soil Moisture 60cm #0 (Sand)' 'Soil Moisture 10cm #0 (Sandy Loam)'\n",
      " 'Soil Moisture 50cm #0' 'Soil Moisture 80cm #0'\n",
      " 'Soil Temperature 60cm #0' 'Soil Moisture 30cm #0 (Clayey Loam)'\n",
      " '#0 Soil Moisture 20cm' 'Soil Moisture 80cm #0 (Sand)'\n",
      " 'Soil Moisture 20cm #0' 'Soil Temperature 10cm' 'Soil Salinity 60cm #0'\n",
      " 'Soil Moisture 20cm #0 (Sandy Loam)' 'Soil Moisture 50cm #0 (Sand)'\n",
      " '#0 Soil Moisture 50cm' 'Soil Salinity 50cm #0'\n",
      " 'Soil Moisture 10cm #0 (Clayey Loam)' 'Soil Moisture 80cm #0 (Clay)'\n",
      " 'Soil Temperature 30cm' 'Soil Salinity 70cm #0'\n",
      " 'Soil Moisture 60cm #0 (Sandy Loam)' 'Soil Moisture 10cm (Adjusted)'\n",
      " 'Soil Temperature 10cm #0' 'Soil Temperature 80cm #0'\n",
      " '#0 Soil Moisture 70cm' 'Soil Moisture 40cm' 'Soil Moisture 70cm #0'\n",
      " 'Soil Moisture 40cm (Adjusted)' 'Soil Temperature 70cm #0'\n",
      " 'Soil Salinity 20cm' 'Soil Moisture 80cm #0 (Loam)' 'Soil Moisture 10cm'\n",
      " '#0 Soil Moisture 60cm' 'Soil Temperature 20cm'\n",
      " 'Soil Moisture 30cm (Adjusted)' 'Soil Moisture 20cm (Adjusted)'\n",
      " 'Soil Salinity 30cm' 'Soil Salinity 10cm' 'Soil Moisture 30cm'\n",
      " 'Soil Salinity 40cm' 'Soil Moisture 20cm' 'Soil Temperature 070cm'\n",
      " 'Soil Moisture 050cm' 'Soil Moisture 080cm (Adjusted)'\n",
      " 'Soil Moisture 020cm (Adjusted)' 'Soil Moisture 060cm (Adjusted)'\n",
      " 'Soil Moisture 040cm (Adjusted)' 'Soil Moisture 010cm'\n",
      " 'Soil Moisture 030cm' 'Soil Moisture 040cm' 'Soil Temperature 020cm'\n",
      " 'Soil Temperature 010cm' 'Soil Moisture 080cm' 'Soil Temperature 050cm'\n",
      " 'Soil Temperature 060cm' 'Soil Moisture 070cm (Adjusted)'\n",
      " 'Soil Moisture 010cm (Adjusted)' 'Soil Temperature 080cm'\n",
      " 'Soil Moisture 030cm (Adjusted)' 'Soil Moisture 050cm (Adjusted)'\n",
      " 'Soil Moisture 50cm #0 (Clay)' 'Soil Moisture 70cm #0 (Sand)'\n",
      " '#0 Soil Moisture 80cm' '#0 Soil Moisture 30cm' '#0 Soil Moisture 40cm'\n",
      " 'Soil Moisture 60cm #0' 'Soil Moisture 060cm' 'Soil Moisture 020cm'\n",
      " 'Soil Moisture 070cm' 'Soil Temperature 040cm' 'Soil Temperature 030cm'\n",
      " 'Soil Moisture 60cm (Adjusted)' 'Soil Moisture 50cm' 'Soil Salinity 80cm'\n",
      " 'Soil Moisture 80cm' 'Soil Moisture 60cm' 'Soil Salinity 50cm'\n",
      " 'Soil Salinity 70cm' 'Soil Temperature 80cm'\n",
      " 'Soil Moisture 30cm #0 (Sand)' 'Soil Salinity 40 cm #0'\n",
      " 'Soil Moisture 70cm (Adjusted)' 'Soil Moisture 20cm #0 (Clayey Loam)'\n",
      " 'Soil Moisture 30cm #0 (Sandy Loam)' 'Soil Moisture 40cm #0 (Sand)'\n",
      " 'Soil Moisture (Adjusted) 50cm' 'Soil Moisture (Adjusted) 60cm'\n",
      " 'Soil Salinity 60cm' 'Soil Temperature 50cm'\n",
      " 'Soil Moisture (Adjusted) 40cm' 'Soil Temperature 70cm'\n",
      " 'Soil Moisture (Adjusted) 30cm' 'Soil Temperature 60cm'\n",
      " 'Soil Moisture (Adjusted) 80cm' 'Soil Moisture (Adjusted) 20cm'\n",
      " 'Soil Moisture (Adjusted) 10cm' 'Soil Moisture (Adjusted) 70cm'\n",
      " 'Soil Moisture 70cm' 'Soil Moisture 50cm #0 (Sandy Loam)'\n",
      " 'Soil Moisture 70cm #0 (Sandy Loam)' 'Soil Moisture 80cm (Adjusted)'\n",
      " 'Soil Moisture 50cm (Adjusted)' 'Soil Moisture 40cm #0 (Sandy Loam)'\n",
      " 'Soil Moisture 40cm #0 (Clayey Loam)'\n",
      " 'Soil Moisture 80cm #0 (Sandy Loam)' '#0 Soil Moisture 10cm Clay Loam'\n",
      " 'Soil Moisture 70cm #0 (Loam)' 'Soil Moisture 60cm #0 (Loam)'\n",
      " 'Soil Moisture 40cm #0 (Loam)' 'Soil Moisture 50cm #0 (Loam)']\n"
     ]
    }
   ],
   "source": [
    "# 1. List all unique probe_measure values\n",
    "unique_measures = df['probe_measure'].unique()\n",
    "print(\"Unique probe_measure values:\\n\", unique_measures)\n",
    "\n"
   ]
  },
  {
   "cell_type": "code",
   "execution_count": 18,
   "id": "6da70121",
   "metadata": {},
   "outputs": [
    {
     "name": "stdout",
     "output_type": "stream",
     "text": [
      "\n",
      "Counts per probe_measure:\n",
      " probe_measure\n",
      "Soil Salinity 40cm                    4984\n",
      "Soil Temperature 20cm                 4965\n",
      "Soil Temperature 30cm                 4960\n",
      "Soil Salinity 10cm                    4957\n",
      "Soil Moisture 40cm                    4944\n",
      "                                      ... \n",
      "Soil Moisture 50cm #0 (Sandy Loam)       4\n",
      "Soil Moisture 60cm #0 (Sandy Loam)       3\n",
      "Soil Moisture 70cm #0 (Sandy Loam)       3\n",
      "Soil Moisture 80cm #0 (Sandy Loam)       2\n",
      "Soil Moisture 40cm #0 (Sandy Loam)       2\n",
      "Name: count, Length: 129, dtype: int64\n"
     ]
    }
   ],
   "source": [
    "# 2. See how many times each occurs\n",
    "measure_counts = df['probe_measure'].value_counts()\n",
    "print(\"\\nCounts per probe_measure:\\n\", measure_counts)\n"
   ]
  },
  {
   "cell_type": "code",
   "execution_count": 20,
   "id": "c736cd9a",
   "metadata": {},
   "outputs": [
    {
     "ename": "NameError",
     "evalue": "name 'counts' is not defined",
     "output_type": "error",
     "traceback": [
      "\u001b[31m---------------------------------------------------------------------------\u001b[39m",
      "\u001b[31mNameError\u001b[39m                                 Traceback (most recent call last)",
      "\u001b[36mCell\u001b[39m\u001b[36m \u001b[39m\u001b[32mIn[20]\u001b[39m\u001b[32m, line 1\u001b[39m\n\u001b[32m----> \u001b[39m\u001b[32m1\u001b[39m measure_counts  = \u001b[43mcounts\u001b[49m.reset_index()\n\u001b[32m      2\u001b[39m measure_counts .columns = [\u001b[33m'\u001b[39m\u001b[33mprobe_measure\u001b[39m\u001b[33m'\u001b[39m,\u001b[33m'\u001b[39m\u001b[33mcount\u001b[39m\u001b[33m'\u001b[39m]\n\u001b[32m      3\u001b[39m measure_counts \n",
      "\u001b[31mNameError\u001b[39m: name 'counts' is not defined"
     ]
    }
   ],
   "source": [
    "measure_counts  = counts.reset_index()\n",
    "measure_counts .columns = ['probe_measure','count']\n",
    "measure_counts \n"
   ]
  }
 ],
 "metadata": {
  "kernelspec": {
   "display_name": ".venv",
   "language": "python",
   "name": "python3"
  },
  "language_info": {
   "codemirror_mode": {
    "name": "ipython",
    "version": 3
   },
   "file_extension": ".py",
   "mimetype": "text/x-python",
   "name": "python",
   "nbconvert_exporter": "python",
   "pygments_lexer": "ipython3",
   "version": "3.13.2"
  }
 },
 "nbformat": 4,
 "nbformat_minor": 5
}
